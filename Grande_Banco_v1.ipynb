{
  "nbformat": 4,
  "nbformat_minor": 0,
  "metadata": {
    "colab": {
      "provenance": [],
      "authorship_tag": "ABX9TyPpyqbzC4OISg5VGbQ2pPHk",
      "include_colab_link": true
    },
    "kernelspec": {
      "name": "python3",
      "display_name": "Python 3"
    },
    "language_info": {
      "name": "python"
    }
  },
  "cells": [
    {
      "cell_type": "markdown",
      "metadata": {
        "id": "view-in-github",
        "colab_type": "text"
      },
      "source": [
        "<a href=\"https://colab.research.google.com/github/Juan88Almeida/Grande_Banco/blob/main/Grande_Banco_v1.ipynb\" target=\"_parent\"><img src=\"https://colab.research.google.com/assets/colab-badge.svg\" alt=\"Open In Colab\"/></a>"
      ]
    },
    {
      "cell_type": "markdown",
      "source": [
        "Nome: Grande Banco\n",
        "\n",
        "Versão do projeto: v1\n",
        "\n",
        "Três operações:\n",
        "- Depósito, Saque e Extrato\n",
        "\n",
        "Regras:\n",
        "- Somente valores positivos devem ser depositados na conta\n",
        "- Limite de saques diários = 3\n",
        "- Limite por saque = R$ 500,00"
      ],
      "metadata": {
        "id": "uQHSbyvXV3eP"
      }
    },
    {
      "cell_type": "code",
      "execution_count": null,
      "metadata": {
        "id": "CyIU7srPV19-"
      },
      "outputs": [],
      "source": [
        "saldo = 700\n",
        "saques = 0\n",
        "depositos = 0\n",
        "\n",
        "qtde_saques = 0\n",
        "qtde_depositos = 0\n",
        "limite_por_saque = 500\n",
        "limite_saques = 3\n",
        "operacao_contador = 1\n",
        "extrato_historico = {}\n",
        "\n",
        "operacoes_disponiveis = (1, 2, 3)\n",
        "\n",
        "print(\"Seja bem-vindo ao Grande Banco!\\nO maior banco do mundo a seu dispor. 🏛\\n\")\n",
        "print(\"Qual operação você deseja realizar hoje?\")\n",
        "\n",
        "while True:\n",
        "  acao = int(input('''\n",
        "[1] Saque\n",
        "[2] Depósito\n",
        "[3] Extrato\n",
        "'''))\n",
        "  print()\n",
        "\n",
        "  for operacao in operacoes_disponiveis:\n",
        "    numero_operacao = f\"Operação {operacao_contador}\"\n",
        "    if acao == operacoes_disponiveis[0]:\n",
        "        valor = float(input(\"Qual valor você deseja sacar?\\nAtenção: o limite por saque é de R$ 500,00.\\n\"))\n",
        "        print()\n",
        "        if valor > saldo:\n",
        "          print(f\"Saldo insuficiente!\\nSeu saldo atual é de R$ {saldo:.2f}\")\n",
        "        elif valor > limite_por_saque:\n",
        "          print(\"O valor máximo por saque é R$ 500,00\\nTente novamente um valor menor ou outra operação na conta.\\n\")\n",
        "        elif qtde_saques >= limite_saques:\n",
        "          print(\"Você atingiu o limite de saques diários!\\n\")\n",
        "        else:\n",
        "          saldo -= valor\n",
        "          saques += valor\n",
        "          qtde_saques += 1\n",
        "          print(f\"Saque de R$ {valor:.2f} realizado com sucesso!\\n\")\n",
        "          extrato_historico[numero_operacao] = [\"Saque\", valor]\n",
        "        break\n",
        "\n",
        "    elif acao == operacoes_disponiveis[1]:\n",
        "        valor = float(input(\"Qual valor você deseja depositar?\\n\"))\n",
        "        if valor > 0:\n",
        "          saldo += valor\n",
        "          depositos += valor\n",
        "          print(f\"Depósito de R$ {valor:.2f} realizado com sucesso!\\n\")\n",
        "          extrato_historico[numero_operacao] = [\"Depósito\", valor]\n",
        "          qtde_depositos += 1\n",
        "        else:\n",
        "          print(\"\\nValor inválido para depósito!\\nTente novamente.\\n\")\n",
        "        break\n",
        "\n",
        "    elif acao == operacoes_disponiveis[2]:\n",
        "      if extrato_historico == {}:\n",
        "        print(\"Não foram realizadas movimentações!\\n\")\n",
        "        break\n",
        "\n",
        "      else:\n",
        "        print(f'''Extrato\n",
        "\n",
        "Saldo atual: R$ {saldo:.2f}\n",
        "\n",
        "Saques realizados: {qtde_saques} no total de R$ {saques:.2f}\n",
        "Depósitos realizados: {qtde_depositos} no total de R$ {depositos:.2f}\n",
        "\n",
        "Segue o histórico completo de movimentações:\n",
        "        ''')\n",
        "        for chave, valor in extrato_historico.items():\n",
        "          print(f\"{valor[0]} de R$ {valor[1]:.2f}\")\n",
        "        print()\n",
        "        break\n",
        "\n",
        "    elif acao != operacao:\n",
        "        print(\"Operação inválida!\\nTente novamente.\\n\")\n",
        "        break\n",
        "\n",
        "  mais_acao = input(\"Deseja realizar mais alguma operação?\\nDigite S para sim e N para Não\\n\").upper()\n",
        "  operacao_contador += 1\n",
        "  if mais_acao == \"N\":\n",
        "    print(\"\\nObrigado por utilizar nossos serviços!\\n\")\n",
        "    break"
      ]
    }
  ]
}